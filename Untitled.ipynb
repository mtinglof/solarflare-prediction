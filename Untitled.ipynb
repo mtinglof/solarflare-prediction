{
 "cells": [
  {
   "cell_type": "code",
   "execution_count": 1,
   "metadata": {},
   "outputs": [],
   "source": [
    "from testtimecreatures import TestTimeCreatures\n",
    "import createtimepop as pop\n",
    "\n",
    "test_obj = TestTimeCreatures()"
   ]
  },
  {
   "cell_type": "code",
   "execution_count": 2,
   "metadata": {
    "scrolled": false
   },
   "outputs": [
    {
     "name": "stdout",
     "output_type": "stream",
     "text": [
      "fitting took 234.61449027061462\n"
     ]
    },
    {
     "ename": "RuntimeError",
     "evalue": "size mismatch, m1: [969 x 47], m2: [51 x 25] at ..\\aten\\src\\TH/generic/THTensorMath.cpp:961",
     "output_type": "error",
     "traceback": [
      "\u001b[1;31m---------------------------------------------------------------------------\u001b[0m",
      "\u001b[1;31mRuntimeError\u001b[0m                              Traceback (most recent call last)",
      "\u001b[1;32m<ipython-input-2-3365ceea8923>\u001b[0m in \u001b[0;36m<module>\u001b[1;34m\u001b[0m\n\u001b[0;32m      2\u001b[0m \u001b[0mtest_obj\u001b[0m\u001b[1;33m.\u001b[0m\u001b[0mgetTestData\u001b[0m\u001b[1;33m(\u001b[0m\u001b[1;36m1100\u001b[0m\u001b[1;33m)\u001b[0m\u001b[1;33m\u001b[0m\u001b[1;33m\u001b[0m\u001b[0m\n\u001b[0;32m      3\u001b[0m \u001b[0mtest_obj\u001b[0m\u001b[1;33m.\u001b[0m\u001b[0mgetClassTestData\u001b[0m\u001b[1;33m(\u001b[0m\u001b[1;33m)\u001b[0m\u001b[1;33m\u001b[0m\u001b[1;33m\u001b[0m\u001b[0m\n\u001b[1;32m----> 4\u001b[1;33m \u001b[0mtest_obj\u001b[0m\u001b[1;33m.\u001b[0m\u001b[0mtestCreatures\u001b[0m\u001b[1;33m(\u001b[0m\u001b[0mcreature\u001b[0m\u001b[1;33m)\u001b[0m\u001b[1;33m\u001b[0m\u001b[1;33m\u001b[0m\u001b[0m\n\u001b[0m",
      "\u001b[1;32mD:\\Dev\\projects\\georgiareu\\testtimecreatures.py\u001b[0m in \u001b[0;36mtestCreatures\u001b[1;34m(self, creature_collection)\u001b[0m\n\u001b[0;32m     31\u001b[0m             \u001b[0mmodel\u001b[0m \u001b[1;33m=\u001b[0m \u001b[0mNeural_Network\u001b[0m\u001b[1;33m(\u001b[0m\u001b[0mcreature\u001b[0m\u001b[1;33m.\u001b[0m\u001b[0minput_length\u001b[0m\u001b[1;33m,\u001b[0m \u001b[0mcreature\u001b[0m\u001b[1;33m.\u001b[0m\u001b[0mhidden_length\u001b[0m\u001b[1;33m)\u001b[0m\u001b[1;33m\u001b[0m\u001b[1;33m\u001b[0m\u001b[0m\n\u001b[0;32m     32\u001b[0m             \u001b[0mmodel\u001b[0m\u001b[1;33m.\u001b[0m\u001b[0msetWeights\u001b[0m\u001b[1;33m(\u001b[0m\u001b[0mcreature\u001b[0m\u001b[1;33m.\u001b[0m\u001b[0mgetCreature\u001b[0m\u001b[1;33m(\u001b[0m\u001b[1;33m)\u001b[0m\u001b[1;33m[\u001b[0m\u001b[1;34m\"weights\"\u001b[0m\u001b[1;33m]\u001b[0m\u001b[1;33m)\u001b[0m\u001b[1;33m\u001b[0m\u001b[1;33m\u001b[0m\u001b[0m\n\u001b[1;32m---> 33\u001b[1;33m             \u001b[0mpredict\u001b[0m \u001b[1;33m=\u001b[0m \u001b[0mmodel\u001b[0m\u001b[1;33m.\u001b[0m\u001b[0mforward\u001b[0m\u001b[1;33m(\u001b[0m\u001b[0mtorch\u001b[0m\u001b[1;33m.\u001b[0m\u001b[0mtensor\u001b[0m\u001b[1;33m(\u001b[0m\u001b[0mcreature_input\u001b[0m\u001b[1;33m,\u001b[0m \u001b[0mdtype\u001b[0m\u001b[1;33m=\u001b[0m\u001b[0mtorch\u001b[0m\u001b[1;33m.\u001b[0m\u001b[0mfloat\u001b[0m\u001b[1;33m)\u001b[0m\u001b[1;33m)\u001b[0m\u001b[1;33m\u001b[0m\u001b[1;33m\u001b[0m\u001b[0m\n\u001b[0m\u001b[0;32m     34\u001b[0m             \u001b[0mnp_predict\u001b[0m \u001b[1;33m=\u001b[0m \u001b[0mnp\u001b[0m\u001b[1;33m.\u001b[0m\u001b[0masarray\u001b[0m\u001b[1;33m(\u001b[0m\u001b[0mpredict\u001b[0m\u001b[1;33m[\u001b[0m\u001b[1;33m:\u001b[0m\u001b[1;33m,\u001b[0m\u001b[1;36m0\u001b[0m\u001b[1;33m]\u001b[0m \u001b[1;33m<\u001b[0m \u001b[0mpredict\u001b[0m\u001b[1;33m[\u001b[0m\u001b[1;33m:\u001b[0m\u001b[1;33m,\u001b[0m\u001b[1;36m1\u001b[0m\u001b[1;33m]\u001b[0m\u001b[1;33m,\u001b[0m \u001b[0mdtype\u001b[0m\u001b[1;33m=\u001b[0m\u001b[0mint\u001b[0m\u001b[1;33m)\u001b[0m\u001b[1;33m\u001b[0m\u001b[1;33m\u001b[0m\u001b[0m\n\u001b[0;32m     35\u001b[0m             \u001b[0mscore\u001b[0m \u001b[1;33m=\u001b[0m \u001b[0mf1_score\u001b[0m\u001b[1;33m(\u001b[0m\u001b[0mself\u001b[0m\u001b[1;33m.\u001b[0m\u001b[0mtraining_class\u001b[0m\u001b[1;33m,\u001b[0m \u001b[0mnp_predict\u001b[0m\u001b[1;33m)\u001b[0m\u001b[1;33m\u001b[0m\u001b[1;33m\u001b[0m\u001b[0m\n",
      "\u001b[1;32mD:\\Dev\\projects\\georgiareu\\neuralnetwork.py\u001b[0m in \u001b[0;36mforward\u001b[1;34m(self, X)\u001b[0m\n\u001b[0;32m     10\u001b[0m \u001b[1;33m\u001b[0m\u001b[0m\n\u001b[0;32m     11\u001b[0m     \u001b[1;32mdef\u001b[0m \u001b[0mforward\u001b[0m\u001b[1;33m(\u001b[0m\u001b[0mself\u001b[0m\u001b[1;33m,\u001b[0m \u001b[0mX\u001b[0m\u001b[1;33m)\u001b[0m\u001b[1;33m:\u001b[0m\u001b[1;33m\u001b[0m\u001b[1;33m\u001b[0m\u001b[0m\n\u001b[1;32m---> 12\u001b[1;33m         \u001b[0mself\u001b[0m\u001b[1;33m.\u001b[0m\u001b[0mz\u001b[0m \u001b[1;33m=\u001b[0m \u001b[0mtorch\u001b[0m\u001b[1;33m.\u001b[0m\u001b[0mmatmul\u001b[0m\u001b[1;33m(\u001b[0m\u001b[0mX\u001b[0m\u001b[1;33m,\u001b[0m \u001b[0mself\u001b[0m\u001b[1;33m.\u001b[0m\u001b[0mW1\u001b[0m\u001b[1;33m)\u001b[0m\u001b[1;33m\u001b[0m\u001b[1;33m\u001b[0m\u001b[0m\n\u001b[0m\u001b[0;32m     13\u001b[0m         \u001b[0mself\u001b[0m\u001b[1;33m.\u001b[0m\u001b[0mz2\u001b[0m \u001b[1;33m=\u001b[0m \u001b[0mself\u001b[0m\u001b[1;33m.\u001b[0m\u001b[0mTanh\u001b[0m\u001b[1;33m(\u001b[0m\u001b[0mself\u001b[0m\u001b[1;33m.\u001b[0m\u001b[0mz\u001b[0m\u001b[1;33m)\u001b[0m\u001b[1;33m\u001b[0m\u001b[1;33m\u001b[0m\u001b[0m\n\u001b[0;32m     14\u001b[0m         \u001b[0mself\u001b[0m\u001b[1;33m.\u001b[0m\u001b[0mz3\u001b[0m \u001b[1;33m=\u001b[0m \u001b[0mtorch\u001b[0m\u001b[1;33m.\u001b[0m\u001b[0mmatmul\u001b[0m\u001b[1;33m(\u001b[0m\u001b[0mself\u001b[0m\u001b[1;33m.\u001b[0m\u001b[0mz2\u001b[0m\u001b[1;33m,\u001b[0m \u001b[0mself\u001b[0m\u001b[1;33m.\u001b[0m\u001b[0mW2\u001b[0m\u001b[1;33m)\u001b[0m\u001b[1;33m\u001b[0m\u001b[1;33m\u001b[0m\u001b[0m\n",
      "\u001b[1;31mRuntimeError\u001b[0m: size mismatch, m1: [969 x 47], m2: [51 x 25] at ..\\aten\\src\\TH/generic/THTensorMath.cpp:961"
     ]
    }
   ],
   "source": [
    "creature = pop.CreatePop(1000)\n",
    "test_obj.getTestData(1100)\n",
    "test_obj.getClassTestData()\n",
    "test_obj.testCreatures(creature)"
   ]
  },
  {
   "cell_type": "code",
   "execution_count": null,
   "metadata": {},
   "outputs": [],
   "source": [
    "import torch \n",
    "optimizer = torch.optim.SGD(model.parameters(), lr=0.01)\n",
    "\n",
    "W1 = torch.randn(60, 30)\n",
    "W2 = torch.randn(30, 60)\n",
    "\n",
    "model = NeuralNetwork(60, 60)\n",
    "model.setWeights(W1, W2)\n",
    "\n",
    "for epoch in range(50):\n",
    "    # Forward Propagation\n",
    "    y_pred = model(x)\n",
    "    # Compute and print loss\n",
    "    loss = criterion(y_pred, y)\n",
    "    print('epoch: ', epoch,' loss: ', loss.item())\n",
    "    # Zero the gradients\n",
    "    optimizer.zero_grad()\n",
    "    \n",
    "    # perform a backward pass (backpropagation)\n",
    "    loss.backward()\n",
    "    \n",
    "    # Update the parameters\n",
    "    optimizer.step()"
   ]
  },
  {
   "cell_type": "code",
   "execution_count": null,
   "metadata": {
    "scrolled": true
   },
   "outputs": [],
   "source": [
    "from roundcontrol import RoundControl\n",
    "import stats\n",
    "\n",
    "scores = []\n",
    "num_genes = []\n",
    "size_input = []\n",
    "input_gene = []\n",
    "\n",
    "round_obj = RoundControl()\n",
    "print(\"First round\")\n",
    "new_sorted_creatures, tested_creatures, score = round_obj.firstRound()\n",
    "scores.append(score)\n",
    "old_tested_creatures, score = round_obj.continueRound(new_sorted_creatures, tested_creatures)\n",
    "scores = scores + score\n",
    "\n",
    "for species in old_tested_creatures: \n",
    "    print(species['creatures'][0].getCreature()['genome'])\n",
    "\n",
    "for x in range(0, 100): \n",
    "    rou = x + 2\n",
    "    print(\"round: {}\".format(rou))\n",
    "    new_sorted_creatures, tested_creatures, creature_collection, score = round_obj.newRound(old_tested_creatures)\n",
    "    scores.append(score)\n",
    "    old_tested_creatures, score = round_obj.continueRound(new_sorted_creatures, tested_creatures)\n",
    "    \n",
    "    for species in old_tested_creatures: \n",
    "        print(species['creatures'][0].getCreature()['genome'])\n",
    "    \n",
    "    scores = scores + score\n",
    "    stats_hold = stats.stats(old_tested_creatures)\n",
    "    print(\"avg gene count: {}\".format(stats_hold[0]))\n",
    "    print(\"avg input: {}\".format(stats_hold[1]))\n",
    "    print(\"input per gene: {}\".format(stats_hold[2]))\n",
    "    num_genes.append(stats_hold[0])\n",
    "    size_input.append(stats_hold[1])\n",
    "    input_gene.append(stats_hold[2])"
   ]
  },
  {
   "cell_type": "code",
   "execution_count": null,
   "metadata": {},
   "outputs": [],
   "source": [
    "yeller"
   ]
  },
  {
   "cell_type": "code",
   "execution_count": null,
   "metadata": {},
   "outputs": [],
   "source": [
    "from submitcreature import SubmitCreature\n",
    "yeller = old_tested_creatures[0]['creatures'][0].getCreature()\n",
    "sumbit_obj = SubmitCreature()"
   ]
  },
  {
   "cell_type": "code",
   "execution_count": null,
   "metadata": {
    "scrolled": false
   },
   "outputs": [],
   "source": [
    "for x in range(0, 100): \n",
    "    rou = x + 101\n",
    "    print(\"round: {}\".format(rou))\n",
    "    new_sorted_creatures, tested_creatures, creature_collection, score = round_obj.newRound(old_tested_creatures)\n",
    "    scores.append(score)\n",
    "    old_tested_creatures, score = round_obj.continueRound(new_sorted_creatures, tested_creatures)\n",
    "    \n",
    "    for species in old_tested_creatures: \n",
    "        print(species['creatures'][0].getCreature()['genome'])\n",
    "    \n",
    "    scores = scores + score\n",
    "    stats_hold = stats.stats(old_tested_creatures)\n",
    "    print(\"avg gene count: {}\".format(stats_hold[0]))\n",
    "    print(\"avg input: {}\".format(stats_hold[1]))\n",
    "    print(\"input per gene: {}\".format(stats_hold[2]))\n",
    "    num_genes.append(stats_hold[0])\n",
    "    size_input.append(stats_hold[1])\n",
    "    input_gene.append(stats_hold[2])"
   ]
  },
  {
   "cell_type": "code",
   "execution_count": null,
   "metadata": {},
   "outputs": [],
   "source": [
    "creature_collection[5]['creatures'][0].getCreature()"
   ]
  },
  {
   "cell_type": "code",
   "execution_count": null,
   "metadata": {},
   "outputs": [],
   "source": [
    "for x in range(0, 101): \n",
    "    rou = x + 100\n",
    "    print(\"Round {}\".format(rou))\n",
    "    new_sorted_creatures, tested_creatures, score = round_obj.newRound(old_tested_creatures)\n",
    "    scores.append(score)\n",
    "    old_tested_creatures, score = round_obj.continueRound(new_sorted_creatures, tested_creatures)\n",
    "    scores = scores + score"
   ]
  },
  {
   "cell_type": "code",
   "execution_count": null,
   "metadata": {},
   "outputs": [],
   "source": [
    "old_tested_creatures[0]['creatures'][0].getCreature()"
   ]
  },
  {
   "cell_type": "code",
   "execution_count": null,
   "metadata": {},
   "outputs": [],
   "source": [
    "import numpy as np \n",
    "\n",
    "adamw1 = adam['weights'][0]\n",
    "adamw2 = adam['weights'][1]\n",
    "\n",
    "w1 = np.random.rand(adamw1.shape[0], adamw1.shape[1])\n",
    "w2 = np.random.rand(adamw2.shape[0], adamw2.shape[1])\n",
    "\n",
    "for row_index, row in enumerate(adamw1): \n",
    "    for column, weight in enumerate(row): \n",
    "        w1[row_index][column] = weight.item()\n",
    "        \n",
    "for row_index, row in enumerate(adamw2): \n",
    "    for column, weight in enumerate(row): \n",
    "        w2[row_index][column] = weight.item()\n",
    "        \n",
    "np.save('adamw1.npy', w1) \n",
    "np.save('adamw2.npy', w2)"
   ]
  },
  {
   "cell_type": "code",
   "execution_count": null,
   "metadata": {},
   "outputs": [],
   "source": [
    "w1_copy = []\n",
    "\n",
    "for row in w1: \n",
    "    row_copy = []\n",
    "    for weight in row: \n",
    "        row_copy.append(weight.item())\n",
    "    w1_copy.append(row_copy)"
   ]
  },
  {
   "cell_type": "code",
   "execution_count": null,
   "metadata": {
    "scrolled": false
   },
   "outputs": [],
   "source": [
    "import matplotlib.pyplot as py\n",
    "\n",
    "py.figure(dpi=300)\n",
    "py.plot(scores)\n",
    "py.grid(linewidth=.5)\n",
    "py.show()\n",
    "\n",
    "highscores = []\n",
    "\n",
    "for score in scores: \n",
    "    highscores.append(score + .1)\n",
    "\n",
    "py.figure(dpi=300)\n",
    "py.plot(highscores)\n",
    "py.grid(linewidth=.5)\n",
    "py.show()"
   ]
  }
 ],
 "metadata": {
  "kernelspec": {
   "display_name": "Python 3",
   "language": "python",
   "name": "python3"
  },
  "language_info": {
   "codemirror_mode": {
    "name": "ipython",
    "version": 3
   },
   "file_extension": ".py",
   "mimetype": "text/x-python",
   "name": "python",
   "nbconvert_exporter": "python",
   "pygments_lexer": "ipython3",
   "version": "3.7.3"
  }
 },
 "nbformat": 4,
 "nbformat_minor": 2
}
