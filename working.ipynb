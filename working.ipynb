{
 "cells": [
  {
   "cell_type": "code",
   "execution_count": 1,
   "metadata": {},
   "outputs": [
    {
     "name": "stdout",
     "output_type": "stream",
     "text": [
      "fitting took 33.68454170227051\n",
      "creature input 34.60918426513672\n",
      "creature test 0.0\n",
      "whole test time 35.73233413696289\n",
      "1000\n"
     ]
    }
   ],
   "source": [
    "from createtimepop import CreatePop\n",
    "from testtimecreatures import TestTimeCreatures\n",
    "\n",
    "collection = CreatePop(1000)\n",
    "test_obj = TestTimeCreatures()\n",
    "test_obj.getTestData(110)\n",
    "test_obj.getClassTestData()\n",
    "test_obj.testCreatures(collection)"
   ]
  },
  {
   "cell_type": "code",
   "execution_count": 2,
   "metadata": {},
   "outputs": [
    {
     "data": {
      "text/plain": [
       "{'last_score': 0.5384615384615385,\n",
       " 'scores': [],\n",
       " 'weights': [tensor([[-0.2566, -1.0051, -0.5098,  ..., -1.2384, -0.9169, -0.6288],\n",
       "          [-0.4390,  0.4492,  0.1596,  ..., -0.3385,  0.7043,  0.0508],\n",
       "          [-0.7163,  0.9632,  0.0150,  ...,  0.1308, -0.3765,  1.0238],\n",
       "          ...,\n",
       "          [-1.7866, -1.9965,  0.6315,  ..., -0.7191, -0.7714,  0.1207],\n",
       "          [ 0.8233, -0.0968,  0.1944,  ..., -1.0611,  0.2842, -0.8812],\n",
       "          [ 0.6503,  0.4193, -0.5597,  ..., -0.5330,  0.8713,  1.2273]]),\n",
       "  tensor([[-8.0309e-01,  1.0550e+00],\n",
       "          [-3.7169e-02, -9.1089e-02],\n",
       "          [-5.6328e-01,  2.7313e-01],\n",
       "          [ 5.8996e-01,  2.8218e-01],\n",
       "          [ 2.6805e-01, -2.1512e-01],\n",
       "          [ 1.1173e-01,  9.1339e-02],\n",
       "          [ 3.5462e-01,  9.6530e-01],\n",
       "          [-1.0544e+00,  8.2420e-01],\n",
       "          [ 1.2856e+00, -1.2079e+00],\n",
       "          [ 1.0261e+00, -1.8734e+00],\n",
       "          [ 8.3616e-01, -1.0464e+00],\n",
       "          [ 4.9170e-01,  1.7650e+00],\n",
       "          [ 1.4862e+00,  3.9333e-01],\n",
       "          [ 1.3947e+00,  3.7406e-02],\n",
       "          [ 4.5657e-01,  4.8073e-02],\n",
       "          [ 8.2409e-01,  1.6744e-03],\n",
       "          [ 4.5633e-01, -4.4538e-01],\n",
       "          [ 4.6527e-01, -3.8478e-01],\n",
       "          [ 6.5940e-01,  1.0398e+00],\n",
       "          [ 2.7815e-01,  6.3609e-01],\n",
       "          [ 5.2738e-02, -8.0779e-01],\n",
       "          [-9.5040e-01,  2.1558e-01],\n",
       "          [ 6.2618e-01,  6.2896e-01],\n",
       "          [ 9.3220e-01,  3.6016e-01],\n",
       "          [-1.1794e+00, -6.7077e-02]])]}"
      ]
     },
     "execution_count": 2,
     "metadata": {},
     "output_type": "execute_result"
    }
   ],
   "source": [
    "collection[0].getCreature()"
   ]
  }
 ],
 "metadata": {
  "kernelspec": {
   "display_name": "Python 3",
   "language": "python",
   "name": "python3"
  },
  "language_info": {
   "codemirror_mode": {
    "name": "ipython",
    "version": 3
   },
   "file_extension": ".py",
   "mimetype": "text/x-python",
   "name": "python",
   "nbconvert_exporter": "python",
   "pygments_lexer": "ipython3",
   "version": "3.7.3"
  }
 },
 "nbformat": 4,
 "nbformat_minor": 2
}
